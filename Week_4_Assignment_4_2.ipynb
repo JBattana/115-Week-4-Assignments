{
  "nbformat": 4,
  "nbformat_minor": 0,
  "metadata": {
    "colab": {
      "provenance": [],
      "authorship_tag": "ABX9TyNJbkF7gi4BNTFN0dtmbVvQ",
      "include_colab_link": true
    },
    "kernelspec": {
      "name": "python3",
      "display_name": "Python 3"
    },
    "language_info": {
      "name": "python"
    }
  },
  "cells": [
    {
      "cell_type": "markdown",
      "metadata": {
        "id": "view-in-github",
        "colab_type": "text"
      },
      "source": [
        "<a href=\"https://colab.research.google.com/github/JBattana/115-Week-4-Assignments/blob/main/Week_4_Assignment_4_2.ipynb\" target=\"_parent\"><img src=\"https://colab.research.google.com/assets/colab-badge.svg\" alt=\"Open In Colab\"/></a>"
      ]
    },
    {
      "cell_type": "markdown",
      "source": [
        "Download the dataset and load it as a pandas dataframe and perform the following:"
      ],
      "metadata": {
        "id": "Tx6E6w-M3_kt"
      }
    },
    {
      "cell_type": "markdown",
      "source": [
        "1. Using pandas to insert a new record into the dataset with the following details:\n",
        "\n",
        "Fast-Food Chain: \"Subway\",\n",
        "\n",
        "Systemwide Sales: $1000 million,\n",
        "\n",
        "Average Sales per Unit: $400 thousand,\n",
        "\n",
        "Franchised Stores: 2000,\n",
        "\n",
        "Company Stores: 500,\n",
        "\n",
        "2021 Total Units: 2500,\n",
        "\n",
        "Total Change in Units from 2020: 50"
      ],
      "metadata": {
        "id": "TaStC4Ws4H8f"
      }
    },
    {
      "cell_type": "code",
      "execution_count": null,
      "metadata": {
        "id": "Jrdv4urGt0tm"
      },
      "outputs": [],
      "source": [
        "#Code here"
      ]
    },
    {
      "cell_type": "markdown",
      "source": [
        "2. Update the systemwide sales for the fast food chain with the name \"McDonald's\" to $40000 million."
      ],
      "metadata": {
        "id": "Lw1U3VKb4wVQ"
      }
    },
    {
      "cell_type": "code",
      "source": [
        "#Code here"
      ],
      "metadata": {
        "id": "SXfEQwAl5oJF"
      },
      "execution_count": null,
      "outputs": []
    },
    {
      "cell_type": "markdown",
      "source": [
        "3. Using pandas to calculate the average systemwide sales for each category of fast food chains, grouped by category."
      ],
      "metadata": {
        "id": "WcseqKwo43Ry"
      }
    },
    {
      "cell_type": "code",
      "source": [
        "#Code here"
      ],
      "metadata": {
        "id": "Fw7JweTD5nWU"
      },
      "execution_count": null,
      "outputs": []
    },
    {
      "cell_type": "markdown",
      "source": [
        "4.Using pandas retrieve the top 10 fast food chains with the highest average sales per unit, ordered by average sales per unit in descending order."
      ],
      "metadata": {
        "id": "GOAPsrg04_ZU"
      }
    },
    {
      "cell_type": "code",
      "source": [
        "#Code here"
      ],
      "metadata": {
        "id": "zfXV759u5mqC"
      },
      "execution_count": null,
      "outputs": []
    },
    {
      "cell_type": "markdown",
      "source": [
        "5. Using pandas retrieve the names of all fast food chains that have more franchised stores than company stores."
      ],
      "metadata": {
        "id": "lPnmlYdM5KI0"
      }
    },
    {
      "cell_type": "code",
      "source": [
        "#Code here"
      ],
      "metadata": {
        "id": "srz5zRZU5lx5"
      },
      "execution_count": null,
      "outputs": []
    },
    {
      "cell_type": "markdown",
      "source": [
        "6. Using pandas delete all records from the dataset where the total change in units from 2020 is negative."
      ],
      "metadata": {
        "id": "uiVkBslH5W7X"
      }
    },
    {
      "cell_type": "code",
      "source": [
        "#Code here"
      ],
      "metadata": {
        "id": "c7RJkuhO5iq_"
      },
      "execution_count": null,
      "outputs": []
    }
  ]
}